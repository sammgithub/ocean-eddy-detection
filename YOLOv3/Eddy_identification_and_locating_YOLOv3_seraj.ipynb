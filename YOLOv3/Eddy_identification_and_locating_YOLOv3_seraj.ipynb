{
  "nbformat": 4,
  "nbformat_minor": 0,
  "metadata": {
    "colab": {
      "name": "Eddy_identification_and_locating_YOLOv3_seraj.ipynb",
      "provenance": [],
      "collapsed_sections": []
    },
    "kernelspec": {
      "name": "python3",
      "display_name": "Python 3"
    },
    "accelerator": "GPU"
  },
  "cells": [
    {
      "cell_type": "markdown",
      "metadata": {
        "id": "ngQsy2AT256U"
      },
      "source": [
        "# Step 1: Select GPU from Edit\n",
        "# Step 2: Cloning and Building Darknet"
      ]
    },
    {
      "cell_type": "code",
      "metadata": {
        "id": "HCs4VQmESACk"
      },
      "source": [
        "# clone darknet repo\n",
        "!git clone https://github.com/AlexeyAB/darknet"
      ],
      "execution_count": null,
      "outputs": []
    },
    {
      "cell_type": "code",
      "metadata": {
        "id": "5H-Taj06Tw1c"
      },
      "source": [
        "# change makefile to have GPU and OPENCV enabled\n",
        "%cd darknet\n",
        "!sed -i 's/OPENCV=0/OPENCV=1/' Makefile\n",
        "!sed -i 's/GPU=0/GPU=1/' Makefile\n",
        "!sed -i 's/CUDNN=0/CUDNN=1/' Makefile"
      ],
      "execution_count": null,
      "outputs": []
    },
    {
      "cell_type": "code",
      "metadata": {
        "id": "aNv1UHwXZK57"
      },
      "source": [
        "# verify CUDA\n",
        "!/usr/local/cuda/bin/nvcc --version"
      ],
      "execution_count": null,
      "outputs": []
    },
    {
      "cell_type": "code",
      "metadata": {
        "id": "3DWRrVatZZZg"
      },
      "source": [
        "# make darknet (build)\n",
        "!make"
      ],
      "execution_count": null,
      "outputs": []
    },
    {
      "cell_type": "markdown",
      "metadata": {
        "id": "47-d_3xy36U9"
      },
      "source": [
        "# Step 3: Download pretrained YOLOv3 weights\n",
        ":YOLOv3 has been trained already on the coco dataset which has 80 classes that it can predict. We will grab these pretrained weights so that we can run YOLOv3 on these pretrained classes and get detections."
      ]
    },
    {
      "cell_type": "code",
      "metadata": {
        "id": "9QDHhDMgZTE9"
      },
      "source": [
        "# get yolov3 pretrained coco dataset weights\n",
        "!wget https://pjreddie.com/media/files/yolov3.weights"
      ],
      "execution_count": null,
      "outputs": []
    },
    {
      "cell_type": "code",
      "metadata": {
        "id": "w4Pm0VoqmGia"
      },
      "source": [
        "# define helper functions\n",
        "def imShow(path):\n",
        "  import cv2\n",
        "  import matplotlib.pyplot as plt\n",
        "  %matplotlib inline\n",
        "\n",
        "  image = cv2.imread(path)\n",
        "  height, width = image.shape[:2]\n",
        "  resized_image = cv2.resize(image,(3*width, 3*height), interpolation = cv2.INTER_CUBIC)\n",
        "\n",
        "  fig = plt.gcf()\n",
        "  fig.set_size_inches(18, 10)\n",
        "  plt.axis(\"off\")\n",
        "  plt.imshow(cv2.cvtColor(resized_image, cv2.COLOR_BGR2RGB))\n",
        "  plt.show()\n",
        "\n",
        "# use this to upload files\n",
        "def upload():\n",
        "  from google.colab import files\n",
        "  uploaded = files.upload() \n",
        "  for name, data in uploaded.items():\n",
        "    with open(name, 'wb') as f:\n",
        "      f.write(data)\n",
        "      print ('saved file', name)\n",
        "\n",
        "# use this to download a file  \n",
        "def download(path):\n",
        "  from google.colab import files\n",
        "  files.download(path)"
      ],
      "execution_count": null,
      "outputs": []
    },
    {
      "cell_type": "markdown",
      "source": [
        "# Step 4: Connect to google drive"
      ],
      "metadata": {
        "id": "bLJe0wCtIkZb"
      }
    },
    {
      "cell_type": "code",
      "metadata": {
        "id": "j9lmJEnGEu-7"
      },
      "source": [
        "%cd ..\n",
        "from google.colab import drive\n",
        "drive.mount('/content/gdrive')"
      ],
      "execution_count": null,
      "outputs": []
    },
    {
      "cell_type": "code",
      "metadata": {
        "id": "yreDPcJdoo29"
      },
      "source": [
        "# this creates a symbolic link so that now the path /content/gdrive/My\\ Drive/ is equal to /mydrive\n",
        "!ln -s /content/gdrive/My\\ Drive/ /mydrive\n",
        "!ls /mydrive"
      ],
      "execution_count": null,
      "outputs": []
    },
    {
      "cell_type": "code",
      "metadata": {
        "id": "ucpOylJFWyfn"
      },
      "source": [
        "%cd darknet"
      ],
      "execution_count": null,
      "outputs": []
    },
    {
      "cell_type": "markdown",
      "metadata": {
        "id": "Dye1-pgt4WS0"
      },
      "source": [
        "# Step 5: Moving Your Custom Dataset Into Your Cloud VM"
      ]
    },
    {
      "cell_type": "code",
      "metadata": {
        "id": "0_JRC13hK7Zr"
      },
      "source": [
        "# this is where my zip is stored (I created a yolov3 folder where I will get my required files from)\n",
        "!ls /mydrive/yolov3"
      ],
      "execution_count": null,
      "outputs": []
    },
    {
      "cell_type": "code",
      "metadata": {
        "id": "YpljhMVHOx9X"
      },
      "source": [
        "# copy the .zip file into the root directory of cloud VM\n",
        "!cp /mydrive/yolov3/obj.zip ../"
      ],
      "execution_count": null,
      "outputs": []
    },
    {
      "cell_type": "code",
      "source": [
        "## to remove a folder\n",
        "# !rm -r ../data"
      ],
      "metadata": {
        "id": "_--CAWkwe7Xg"
      },
      "execution_count": null,
      "outputs": []
    },
    {
      "cell_type": "code",
      "metadata": {
        "id": "45en565PPLce"
      },
      "source": [
        "# unzip the zip file and its contents should now be in /darknet/data/obj\n",
        "!unzip ../obj.zip -d /content/data/"
      ],
      "execution_count": null,
      "outputs": []
    },
    {
      "cell_type": "code",
      "source": [
        "!mv /content/data/obj /content/darknet/data"
      ],
      "metadata": {
        "id": "kfBcuvFC6Km0"
      },
      "execution_count": null,
      "outputs": []
    },
    {
      "cell_type": "markdown",
      "metadata": {
        "id": "bVst_Nyhkq0B"
      },
      "source": [
        "# Step 6: Configuring Files for Training\n",
        "This step involves properly configuring your custom .cfg file, obj.data, obj.names and train.txt file.\n",
        "\n",
        "## i) Cfg File\n",
        "Copy over the yolov3.cfg to edit by running the cell below."
      ]
    },
    {
      "cell_type": "code",
      "metadata": {
        "id": "Uk0yNelLnTmg"
      },
      "source": [
        "# download cfg to google drive and change its name\n",
        "# !cp cfg/yolov3.cfg /mydrive/yolov3/yolov3_custom.cfg"
      ],
      "execution_count": null,
      "outputs": []
    },
    {
      "cell_type": "code",
      "metadata": {
        "id": "VXHsq4UuoW7a"
      },
      "source": [
        "# to download to local machine (change its name to yolov3_custom.cfg once you download)\n",
        "# download('cfg/yolov3.cfg')"
      ],
      "execution_count": null,
      "outputs": []
    },
    {
      "cell_type": "code",
      "metadata": {
        "id": "FKGP15SmrXLe"
      },
      "source": [
        "# upload the custom .cfg back to cloud VM from Google Drive\n",
        "!cp /mydrive/yolov3/yolov3_custom.cfg ./cfg"
      ],
      "execution_count": null,
      "outputs": []
    },
    {
      "cell_type": "markdown",
      "metadata": {
        "id": "JcSrw86FzgkO"
      },
      "source": [
        "## ii) obj.names and obj.data \n",
        "Create a new file within a code or text editor called **obj.names** and you will make this file exactly the same as your classes.txt in the dataset generation step."
      ]
    },
    {
      "cell_type": "code",
      "metadata": {
        "id": "qBmbHd7M16lK"
      },
      "source": [
        "# upload the obj.names and obj.data files to cloud VM from Google Drive\n",
        "!cp /mydrive/yolov3/obj.names ./data\n",
        "!cp /mydrive/yolov3/obj.data  ./data\n",
        "\n",
        "# upload the obj.names and obj.data files to cloud VM from local machine (uncomment to use)\n",
        "#%cd data\n",
        "#upload()\n",
        "#%cd .. "
      ],
      "execution_count": null,
      "outputs": []
    },
    {
      "cell_type": "code",
      "source": [
        "!pwd"
      ],
      "metadata": {
        "id": "MVM78yILbzJ3"
      },
      "execution_count": null,
      "outputs": []
    },
    {
      "cell_type": "markdown",
      "metadata": {
        "id": "AynO1huO4Kzd"
      },
      "source": [
        "## iii) Generating train.txt\n",
        "The last configuration file needed before we can begin to train our custom detector is the train.txt file which hold the relative paths to all our training images."
      ]
    },
    {
      "cell_type": "code",
      "metadata": {
        "id": "cKBeIp7V44nu"
      },
      "source": [
        "# upload the generate_train.py script to cloud VM from Google Drive\n",
        "!cp /mydrive/yolov3/generate_train.py ./\n",
        "\n",
        "# upload the generate_train.py script to cloud VM from local machine (uncomment to use)\n",
        "#upload()"
      ],
      "execution_count": null,
      "outputs": []
    },
    {
      "cell_type": "markdown",
      "metadata": {
        "id": "k9Ikig-H5wpw"
      },
      "source": [
        "Now we simply run the python script to do all the work for us."
      ]
    },
    {
      "cell_type": "code",
      "metadata": {
        "id": "o4HBBgk3503F"
      },
      "source": [
        "!python ./generate_train.py"
      ],
      "execution_count": null,
      "outputs": []
    },
    {
      "cell_type": "code",
      "metadata": {
        "id": "CIFjMSlX6DfP"
      },
      "source": [
        "# verify train.txt can be seen in our darknet/data folder\n",
        "!ls data/"
      ],
      "execution_count": null,
      "outputs": []
    },
    {
      "cell_type": "markdown",
      "metadata": {
        "id": "5mFOT8pC6Qbg"
      },
      "source": [
        "If everything went as planned double click on **train.txt** on the left side File Explorer and it should look like this.\n",
        "![image.png](data:image/png;base64,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)\n",
        "\n",
        "It will contain one line for each training image path."
      ]
    },
    {
      "cell_type": "markdown",
      "metadata": {
        "id": "DKDmFrUH7JHy"
      },
      "source": [
        "# Step 7: Download pre-trained weights for the convolutional layers.\n",
        "This step downloads the weights for the convolutional layers of the YOLOv3 network. By using these weights it helps your custom object detector to be way more accurate and not have to train as long. You don't have to use these weights but trust me it will help your modle converge and be accurate way faster. USE IT!"
      ]
    },
    {
      "cell_type": "code",
      "metadata": {
        "id": "k5SYWDPv7qG-"
      },
      "source": [
        "# upload pretrained convolutional layer weights\n",
        "!wget http://pjreddie.com/media/files/darknet53.conv.74"
      ],
      "execution_count": null,
      "outputs": []
    },
    {
      "cell_type": "markdown",
      "metadata": {
        "id": "VHw00Cro8ONr"
      },
      "source": [
        "# Step 8: Train Your Custom Object Detector!\n",
        "\n",
        "!./darknet detector train <path to obj.data> <path to custom config> darknet53.conv.74 -dont_show\n",
        "```"
      ]
    },
    {
      "cell_type": "code",
      "metadata": {
        "id": "IrT9LSjc8LMt"
      },
      "source": [
        "# train your custom detector\n",
        "!./darknet detector train data/obj.data cfg/yolov3_custom.cfg darknet53.conv.74 -dont_show"
      ],
      "execution_count": null,
      "outputs": []
    },
    {
      "cell_type": "markdown",
      "metadata": {
        "id": "WmevLHkCPAjL"
      },
      "source": [
        "You can observe a chart of how your model did throughout the training process by running the below command. It shows a chart of your average loss vs. iterations. For your model to be 'accurate' you would aim for a loss under 2."
      ]
    },
    {
      "cell_type": "code",
      "metadata": {
        "id": "8X8Hu3RLQB-2"
      },
      "source": [
        "imShow('chart.png')"
      ],
      "execution_count": null,
      "outputs": []
    },
    {
      "cell_type": "code",
      "metadata": {
        "id": "yE_Q7BXxXxMl"
      },
      "source": [
        "!./darknet detector train data/obj.data cfg/yolov3_custom.cfg /mydrive/yolov3/backup/yolov3_custom_last.weights -dont_show"
      ],
      "execution_count": null,
      "outputs": []
    },
    {
      "cell_type": "markdown",
      "metadata": {
        "id": "N29uHgipYsY2"
      },
      "source": [
        "# Step 9: Run Your Custom Object Detector!!!\n",
        "You have done it! You now have a custom object detector to make your very own detections. Time to test it out and have some fun!"
      ]
    },
    {
      "cell_type": "code",
      "metadata": {
        "id": "CzWTss9BZaDx"
      },
      "source": [
        "# need to set our custom cfg to test mode \n",
        "%cd cfg\n",
        "!sed -i 's/batch=64/batch=1/' yolov3_custom.cfg\n",
        "!sed -i 's/subdivisions=16/subdivisions=1/' yolov3_custom.cfg\n",
        "%cd ..\n"
      ],
      "execution_count": null,
      "outputs": []
    },
    {
      "cell_type": "code",
      "source": [
        "# !./darknet detector test data/obj.data cfg/yolov3_custom.cfg /mydrive/yolov3/backup/yolov3_custom_last_3.weights /content/3.png -tresh .4\n",
        "# imShow('predictions.jpg')"
      ],
      "metadata": {
        "id": "txOr92ClLV1R"
      },
      "execution_count": null,
      "outputs": []
    },
    {
      "cell_type": "code",
      "metadata": {
        "id": "rBPEqumuZ0aG"
      },
      "source": [
        "# run your custom detector with this command (upload an image to your google drive to test, thresh flag sets accuracy that detection must be in order to show it)\n",
        "!./darknet detector test data/obj.data cfg/yolov3_custom.cfg /mydrive/yolov3/backup/yolov3_custom_last_0.weights /content/96.png -thresh 0.4\n",
        "imShow('predictions.jpg')"
      ],
      "execution_count": null,
      "outputs": []
    }
  ]
}