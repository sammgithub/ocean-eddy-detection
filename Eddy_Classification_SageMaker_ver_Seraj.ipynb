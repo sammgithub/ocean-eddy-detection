{
  "cells": [
    {
      "cell_type": "code",
      "execution_count": null,
      "id": "efb5da72",
      "metadata": {
        "id": "efb5da72"
      },
      "outputs": [],
      "source": [
        "%matplotlib inline\n",
        "import numpy as np\n",
        "import matplotlib.pyplot as plt\n",
        "from PIL import Image\n",
        "import cv2\n",
        "# import tensorflow.compat.v2 as tf\n",
        "import keras\n",
        "import os"
      ]
    },
    {
      "cell_type": "markdown",
      "source": [
        "###Access S3 directory"
      ],
      "metadata": {
        "id": "1BAcN4qQ64CZ"
      },
      "id": "1BAcN4qQ64CZ"
    },
    {
      "cell_type": "code",
      "execution_count": null,
      "id": "4692eda9",
      "metadata": {
        "id": "4692eda9"
      },
      "outputs": [],
      "source": [
        "# !aws s3 cp s3://ocean-eddy-data-nasa/nasa-sar-data-png-UInt8/ sar_test --recursive\n",
        "# print(os.path.abspath(os.getcwd()))"
      ]
    },
    {
      "cell_type": "code",
      "execution_count": null,
      "id": "f570740d",
      "metadata": {
        "id": "f570740d"
      },
      "outputs": [],
      "source": [
        "data_path= ('sar_test')\n",
        "img_path = data_path\n",
        "os.chdir(img_path)\n",
        "print(os.path.abspath(os.getcwd()))"
      ]
    },
    {
      "cell_type": "code",
      "execution_count": null,
      "id": "8d143782",
      "metadata": {
        "id": "8d143782"
      },
      "outputs": [],
      "source": [
        "import tensorflow as tf\n",
        "from tensorflow.keras import datasets, layers, models\n",
        "import matplotlib.pyplot as plt\n",
        "from tensorflow.keras.utils import plot_model"
      ]
    },
    {
      "cell_type": "code",
      "execution_count": null,
      "id": "093600a8",
      "metadata": {
        "id": "093600a8"
      },
      "outputs": [],
      "source": [
        "model = models.Sequential()\n",
        "model.add(layers.Conv2D(32, (3, 3), activation='relu', input_shape=(256, 256, 1)))\n",
        "model.add(layers.MaxPooling2D((2, 2)))\n",
        "model.add(layers.Conv2D(64, (3, 3), activation='relu'))\n",
        "model.add(layers.MaxPooling2D((2, 2)))\n",
        "model.add(layers.Conv2D(32, (3, 3), activation='relu'))\n",
        "model.add(layers.MaxPooling2D((2, 2)))\n",
        "model.add(layers.Flatten())\n",
        "model.add(layers.Dense(8, activation='relu'))\n",
        "model.add(layers.Dense(1, activation='sigmoid'))\n",
        "# plot_model(model, to_file='model_plot11.png', show_shapes=True, show_layer_names=True)\n",
        "\n",
        "model.summary()"
      ]
    },
    {
      "cell_type": "code",
      "execution_count": null,
      "id": "aa786702",
      "metadata": {
        "id": "aa786702"
      },
      "outputs": [],
      "source": [
        "batch_size = 16\n",
        "\n",
        "from keras.preprocessing.image import ImageDataGenerator\n",
        "\n",
        "# # this is the augmentation configuration we will use for training\n",
        "train_datagen = ImageDataGenerator(\n",
        "        rescale=1./255,\n",
        "        shear_range=0.2,\n",
        "        zoom_range=0.2,\n",
        "        horizontal_flip=False) ## cannot do flip\n",
        "\n",
        "# this is the augmentation configuration we will use for testing:\n",
        "# only rescaling\n",
        "test_datagen = ImageDataGenerator(\n",
        "        rescale=1./255)\n",
        "\n",
        "# this is a generator that will read pictures found in\n",
        "# subfolers of 'data/train', and indefinitely generate\n",
        "# batches of augmented image data\n",
        "train_generator = train_datagen.flow_from_directory(\n",
        "        './train',  # this is the target directory\n",
        "        target_size=(256, 256),  # all images will be resized to 150x150 ## TODO: do not resize\n",
        "        color_mode = 'grayscale',\n",
        "        batch_size=batch_size,\n",
        "        class_mode='binary')  # since we use binary_crossentropy loss, we need binary labels\n",
        "\n",
        "# this is a similar generator, for validation data\n",
        "validation_generator = test_datagen.flow_from_directory(\n",
        "        './validation',\n",
        "        target_size=(256, 256),\n",
        "        color_mode = 'grayscale',\n",
        "        batch_size=1,\n",
        "        class_mode='binary')\n",
        "\n",
        "# this is a similar generator, for validation data\n",
        "test_generator = test_datagen.flow_from_directory(\n",
        "        './test',\n",
        "        target_size=(256, 256),\n",
        "        color_mode = 'grayscale',\n",
        "        batch_size=1,\n",
        "        class_mode=None,\n",
        "        shuffle=False)"
      ]
    },
    {
      "cell_type": "code",
      "execution_count": null,
      "id": "6fd859da",
      "metadata": {
        "id": "6fd859da"
      },
      "outputs": [],
      "source": [
        "model.compile(loss='binary_crossentropy',\n",
        "              optimizer='adam',\n",
        "              metrics=['accuracy'])"
      ]
    },
    {
      "cell_type": "code",
      "execution_count": null,
      "id": "387ed07d",
      "metadata": {
        "id": "387ed07d"
      },
      "outputs": [],
      "source": [
        "model.fit_generator(\n",
        "        train_generator,\n",
        "        steps_per_epoch=200 // batch_size,\n",
        "        epochs=5,\n",
        "        validation_data=validation_generator,\n",
        "        validation_steps=80 // batch_size)"
      ]
    },
    {
      "cell_type": "code",
      "execution_count": null,
      "id": "49300482",
      "metadata": {
        "id": "49300482"
      },
      "outputs": [],
      "source": [
        "nb_test_samples = 9\n",
        "probabilities_temp = model.predict_generator(test_generator, nb_test_samples)\n",
        "\n",
        "from sklearn.metrics import confusion_matrix\n",
        "from scipy.special import expit\n",
        "\n",
        "probabilities = expit(probabilities_temp)\n",
        "\n",
        "y_true = np.array([0] * 8 + [1] * 1)\n",
        "y_pred = probabilities"
      ]
    },
    {
      "cell_type": "code",
      "execution_count": null,
      "id": "6359fbf0",
      "metadata": {
        "id": "6359fbf0"
      },
      "outputs": [],
      "source": [
        "from sklearn.metrics import average_precision_score\n",
        "average_precision = average_precision_score(y_true, y_pred)\n",
        "average_precision"
      ]
    }
  ],
  "metadata": {
    "kernelspec": {
      "display_name": "conda_tensorflow_p36",
      "language": "python",
      "name": "conda_tensorflow_p36"
    },
    "language_info": {
      "codemirror_mode": {
        "name": "ipython",
        "version": 3
      },
      "file_extension": ".py",
      "mimetype": "text/x-python",
      "name": "python",
      "nbconvert_exporter": "python",
      "pygments_lexer": "ipython3",
      "version": "3.6.13"
    },
    "colab": {
      "name": "Eddy_Classification_SageMaker-ver_Seraj.ipynb",
      "provenance": []
    }
  },
  "nbformat": 4,
  "nbformat_minor": 5
}